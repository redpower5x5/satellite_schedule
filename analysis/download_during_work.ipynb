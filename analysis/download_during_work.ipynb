{
 "cells": [
  {
   "cell_type": "code",
   "execution_count": 1,
   "metadata": {},
   "outputs": [],
   "source": [
    "import pandas as pd\n",
    "import numpy as np\n",
    "import os\n",
    "import matplotlib.pyplot as plt\n",
    "import matplotlib.dates as mdates\n",
    "from datetime import datetime, timedelta, time"
   ]
  },
  {
   "cell_type": "code",
   "execution_count": 2,
   "metadata": {},
   "outputs": [],
   "source": [
    "area_path = '../dataset/area_timing/'\n",
    "path_to_facility= '../dataset/facility_timing/'"
   ]
  },
  {
   "cell_type": "code",
   "execution_count": 5,
   "metadata": {},
   "outputs": [],
   "source": [
    "sat_name = '111603'"
   ]
  },
  {
   "cell_type": "code",
   "execution_count": 40,
   "metadata": {},
   "outputs": [],
   "source": [
    "# Read visibility to facilites data\n",
    "dfs = []\n",
    "for path, subdirs, files in os.walk(path_to_facility):\n",
    "    for name in files:\n",
    "        if sat_name in name:\n",
    "            facility_csv_path = os.path.join(path, name)\n",
    "            df = pd.read_csv(facility_csv_path, index_col=0)\n",
    "            df['Start Time (UTCG)'] = pd.to_datetime(df['Start Time (UTCG)'], format='%d %b %Y %H:%M:%S.%f')\n",
    "            df['Stop Time (UTCG)'] = pd.to_datetime(df['Stop Time (UTCG)'], format='%d %b %Y %H:%M:%S.%f')\n",
    "            df['facility'] = name.split('-To-')[0]\n",
    "            df['sat_name'] = sat_name\n",
    "            mask = (df['Start Time (UTCG)'].dt.time >= time(7,30,00)) & (df['Start Time (UTCG)'].dt.time <= time(19,30,00))\n",
    "            df_working = df.loc[mask]\n",
    "            dfs.append(df_working)\n",
    "\n",
    "facilities_df = pd.concat(dfs)"
   ]
  },
  {
   "cell_type": "code",
   "execution_count": 41,
   "metadata": {},
   "outputs": [],
   "source": [
    "# Read area data\n",
    "dfs = []\n",
    "for path, subdirs, files in os.walk(area_path):\n",
    "    for name in files:\n",
    "        if sat_name in name:\n",
    "            area_csv_path = os.path.join(path, name)\n",
    "            df = pd.read_csv(area_csv_path, index_col=0)\n",
    "            df['Start Time (UTCG)'] = pd.to_datetime(df['Start Time (UTCG)'], format='%d %b %Y %H:%M:%S.%f')\n",
    "            df['Stop Time (UTCG)'] = pd.to_datetime(df['Stop Time (UTCG)'], format='%d %b %Y %H:%M:%S.%f')\n",
    "            df['sat_name'] = sat_name\n",
    "            mask = (df['Start Time (UTCG)'].dt.time >= time(9,00,00)) & (df['Start Time (UTCG)'].dt.time <= time(18,00,00))\n",
    "            df_working = df.loc[mask]\n",
    "            dfs.append(df_working)\n",
    "\n",
    "area_df = pd.concat(dfs)"
   ]
  },
  {
   "cell_type": "code",
   "execution_count": 42,
   "metadata": {},
   "outputs": [],
   "source": [
    "area_df = area_df.sort_values(by=['Start Time (UTCG)'])"
   ]
  },
  {
   "cell_type": "code",
   "execution_count": 49,
   "metadata": {},
   "outputs": [],
   "source": [
    "area_df.reset_index(inplace=True, drop=True)"
   ]
  },
  {
   "cell_type": "code",
   "execution_count": 43,
   "metadata": {},
   "outputs": [],
   "source": [
    "facilities_df = facilities_df.sort_values(by=['Start Time (UTCG)'])"
   ]
  },
  {
   "cell_type": "code",
   "execution_count": 47,
   "metadata": {},
   "outputs": [],
   "source": [
    "facilities_df.reset_index(inplace=True, drop=True)"
   ]
  },
  {
   "cell_type": "code",
   "execution_count": 48,
   "metadata": {},
   "outputs": [
    {
     "data": {
      "text/html": [
       "<div>\n",
       "<style scoped>\n",
       "    .dataframe tbody tr th:only-of-type {\n",
       "        vertical-align: middle;\n",
       "    }\n",
       "\n",
       "    .dataframe tbody tr th {\n",
       "        vertical-align: top;\n",
       "    }\n",
       "\n",
       "    .dataframe thead th {\n",
       "        text-align: right;\n",
       "    }\n",
       "</style>\n",
       "<table border=\"1\" class=\"dataframe\">\n",
       "  <thead>\n",
       "    <tr style=\"text-align: right;\">\n",
       "      <th></th>\n",
       "      <th>Start Time (UTCG)</th>\n",
       "      <th>Stop Time (UTCG)</th>\n",
       "      <th>Duration (sec)</th>\n",
       "      <th>facility</th>\n",
       "      <th>sat_name</th>\n",
       "    </tr>\n",
       "  </thead>\n",
       "  <tbody>\n",
       "    <tr>\n",
       "      <th>0</th>\n",
       "      <td>2027-06-01 08:05:08.597</td>\n",
       "      <td>2027-06-01 08:18:02.725</td>\n",
       "      <td>774.128</td>\n",
       "      <td>Magadan2</td>\n",
       "      <td>111603</td>\n",
       "    </tr>\n",
       "    <tr>\n",
       "      <th>1</th>\n",
       "      <td>2027-06-01 08:05:08.597</td>\n",
       "      <td>2027-06-01 08:18:02.725</td>\n",
       "      <td>774.128</td>\n",
       "      <td>Magadan1</td>\n",
       "      <td>111603</td>\n",
       "    </tr>\n",
       "    <tr>\n",
       "      <th>2</th>\n",
       "      <td>2027-06-01 08:07:37.688</td>\n",
       "      <td>2027-06-01 08:18:07.297</td>\n",
       "      <td>629.609</td>\n",
       "      <td>Anadyr2</td>\n",
       "      <td>111603</td>\n",
       "    </tr>\n",
       "    <tr>\n",
       "      <th>3</th>\n",
       "      <td>2027-06-01 08:07:37.688</td>\n",
       "      <td>2027-06-01 08:18:07.297</td>\n",
       "      <td>629.609</td>\n",
       "      <td>Anadyr1</td>\n",
       "      <td>111603</td>\n",
       "    </tr>\n",
       "    <tr>\n",
       "      <th>4</th>\n",
       "      <td>2027-06-01 08:11:48.758</td>\n",
       "      <td>2027-06-01 08:15:50.607</td>\n",
       "      <td>241.849</td>\n",
       "      <td>Irkutsk</td>\n",
       "      <td>111603</td>\n",
       "    </tr>\n",
       "    <tr>\n",
       "      <th>...</th>\n",
       "      <td>...</td>\n",
       "      <td>...</td>\n",
       "      <td>...</td>\n",
       "      <td>...</td>\n",
       "      <td>...</td>\n",
       "    </tr>\n",
       "    <tr>\n",
       "      <th>712</th>\n",
       "      <td>2027-06-13 18:39:55.361</td>\n",
       "      <td>2027-06-13 18:48:25.866</td>\n",
       "      <td>510.505</td>\n",
       "      <td>Murmansk1</td>\n",
       "      <td>111603</td>\n",
       "    </tr>\n",
       "    <tr>\n",
       "      <th>713</th>\n",
       "      <td>2027-06-13 18:50:23.092</td>\n",
       "      <td>2027-06-13 19:02:53.224</td>\n",
       "      <td>750.132</td>\n",
       "      <td>Anadyr1</td>\n",
       "      <td>111603</td>\n",
       "    </tr>\n",
       "    <tr>\n",
       "      <th>714</th>\n",
       "      <td>2027-06-13 18:50:23.092</td>\n",
       "      <td>2027-06-13 19:02:53.224</td>\n",
       "      <td>750.132</td>\n",
       "      <td>Anadyr2</td>\n",
       "      <td>111603</td>\n",
       "    </tr>\n",
       "    <tr>\n",
       "      <th>715</th>\n",
       "      <td>2027-06-13 18:53:54.606</td>\n",
       "      <td>2027-06-13 19:01:15.782</td>\n",
       "      <td>441.176</td>\n",
       "      <td>Magadan2</td>\n",
       "      <td>111603</td>\n",
       "    </tr>\n",
       "    <tr>\n",
       "      <th>716</th>\n",
       "      <td>2027-06-13 18:53:54.606</td>\n",
       "      <td>2027-06-13 19:01:15.782</td>\n",
       "      <td>441.176</td>\n",
       "      <td>Magadan1</td>\n",
       "      <td>111603</td>\n",
       "    </tr>\n",
       "  </tbody>\n",
       "</table>\n",
       "<p>717 rows × 5 columns</p>\n",
       "</div>"
      ],
      "text/plain": [
       "          Start Time (UTCG)        Stop Time (UTCG)  Duration (sec)   \n",
       "0   2027-06-01 08:05:08.597 2027-06-01 08:18:02.725         774.128  \\\n",
       "1   2027-06-01 08:05:08.597 2027-06-01 08:18:02.725         774.128   \n",
       "2   2027-06-01 08:07:37.688 2027-06-01 08:18:07.297         629.609   \n",
       "3   2027-06-01 08:07:37.688 2027-06-01 08:18:07.297         629.609   \n",
       "4   2027-06-01 08:11:48.758 2027-06-01 08:15:50.607         241.849   \n",
       "..                      ...                     ...             ...   \n",
       "712 2027-06-13 18:39:55.361 2027-06-13 18:48:25.866         510.505   \n",
       "713 2027-06-13 18:50:23.092 2027-06-13 19:02:53.224         750.132   \n",
       "714 2027-06-13 18:50:23.092 2027-06-13 19:02:53.224         750.132   \n",
       "715 2027-06-13 18:53:54.606 2027-06-13 19:01:15.782         441.176   \n",
       "716 2027-06-13 18:53:54.606 2027-06-13 19:01:15.782         441.176   \n",
       "\n",
       "      facility sat_name  \n",
       "0     Magadan2   111603  \n",
       "1     Magadan1   111603  \n",
       "2      Anadyr2   111603  \n",
       "3      Anadyr1   111603  \n",
       "4      Irkutsk   111603  \n",
       "..         ...      ...  \n",
       "712  Murmansk1   111603  \n",
       "713    Anadyr1   111603  \n",
       "714    Anadyr2   111603  \n",
       "715   Magadan2   111603  \n",
       "716   Magadan1   111603  \n",
       "\n",
       "[717 rows x 5 columns]"
      ]
     },
     "execution_count": 48,
     "metadata": {},
     "output_type": "execute_result"
    }
   ],
   "source": [
    "facilities_df"
   ]
  },
  {
   "cell_type": "code",
   "execution_count": 50,
   "metadata": {},
   "outputs": [
    {
     "data": {
      "text/html": [
       "<div>\n",
       "<style scoped>\n",
       "    .dataframe tbody tr th:only-of-type {\n",
       "        vertical-align: middle;\n",
       "    }\n",
       "\n",
       "    .dataframe tbody tr th {\n",
       "        vertical-align: top;\n",
       "    }\n",
       "\n",
       "    .dataframe thead th {\n",
       "        text-align: right;\n",
       "    }\n",
       "</style>\n",
       "<table border=\"1\" class=\"dataframe\">\n",
       "  <thead>\n",
       "    <tr style=\"text-align: right;\">\n",
       "      <th></th>\n",
       "      <th>Start Time (UTCG)</th>\n",
       "      <th>Stop Time (UTCG)</th>\n",
       "      <th>Duration (sec)</th>\n",
       "      <th>sat_name</th>\n",
       "    </tr>\n",
       "  </thead>\n",
       "  <tbody>\n",
       "    <tr>\n",
       "      <th>0</th>\n",
       "      <td>2027-06-01 09:46:51.002</td>\n",
       "      <td>2027-06-01 09:52:36.364</td>\n",
       "      <td>345.363</td>\n",
       "      <td>111603</td>\n",
       "    </tr>\n",
       "    <tr>\n",
       "      <th>1</th>\n",
       "      <td>2027-06-01 09:52:37.524</td>\n",
       "      <td>2027-06-01 09:53:38.951</td>\n",
       "      <td>61.427</td>\n",
       "      <td>111603</td>\n",
       "    </tr>\n",
       "    <tr>\n",
       "      <th>2</th>\n",
       "      <td>2027-06-01 11:23:11.938</td>\n",
       "      <td>2027-06-01 11:29:33.792</td>\n",
       "      <td>381.854</td>\n",
       "      <td>111603</td>\n",
       "    </tr>\n",
       "    <tr>\n",
       "      <th>3</th>\n",
       "      <td>2027-06-01 13:00:45.544</td>\n",
       "      <td>2027-06-01 13:05:07.811</td>\n",
       "      <td>262.268</td>\n",
       "      <td>111603</td>\n",
       "    </tr>\n",
       "    <tr>\n",
       "      <th>4</th>\n",
       "      <td>2027-06-01 14:36:49.173</td>\n",
       "      <td>2027-06-01 14:41:00.961</td>\n",
       "      <td>251.788</td>\n",
       "      <td>111603</td>\n",
       "    </tr>\n",
       "    <tr>\n",
       "      <th>...</th>\n",
       "      <td>...</td>\n",
       "      <td>...</td>\n",
       "      <td>...</td>\n",
       "      <td>...</td>\n",
       "    </tr>\n",
       "    <tr>\n",
       "      <th>75</th>\n",
       "      <td>2027-06-13 12:11:33.065</td>\n",
       "      <td>2027-06-13 12:16:47.503</td>\n",
       "      <td>314.437</td>\n",
       "      <td>111603</td>\n",
       "    </tr>\n",
       "    <tr>\n",
       "      <th>76</th>\n",
       "      <td>2027-06-13 12:16:50.059</td>\n",
       "      <td>2027-06-13 12:17:47.806</td>\n",
       "      <td>57.747</td>\n",
       "      <td>111603</td>\n",
       "    </tr>\n",
       "    <tr>\n",
       "      <th>77</th>\n",
       "      <td>2027-06-13 12:17:51.974</td>\n",
       "      <td>2027-06-13 12:18:10.510</td>\n",
       "      <td>18.536</td>\n",
       "      <td>111603</td>\n",
       "    </tr>\n",
       "    <tr>\n",
       "      <th>78</th>\n",
       "      <td>2027-06-13 13:49:36.192</td>\n",
       "      <td>2027-06-13 13:53:45.861</td>\n",
       "      <td>249.668</td>\n",
       "      <td>111603</td>\n",
       "    </tr>\n",
       "    <tr>\n",
       "      <th>79</th>\n",
       "      <td>2027-06-13 15:23:14.072</td>\n",
       "      <td>2027-06-13 15:30:37.214</td>\n",
       "      <td>443.142</td>\n",
       "      <td>111603</td>\n",
       "    </tr>\n",
       "  </tbody>\n",
       "</table>\n",
       "<p>80 rows × 4 columns</p>\n",
       "</div>"
      ],
      "text/plain": [
       "         Start Time (UTCG)        Stop Time (UTCG)  Duration (sec) sat_name\n",
       "0  2027-06-01 09:46:51.002 2027-06-01 09:52:36.364         345.363   111603\n",
       "1  2027-06-01 09:52:37.524 2027-06-01 09:53:38.951          61.427   111603\n",
       "2  2027-06-01 11:23:11.938 2027-06-01 11:29:33.792         381.854   111603\n",
       "3  2027-06-01 13:00:45.544 2027-06-01 13:05:07.811         262.268   111603\n",
       "4  2027-06-01 14:36:49.173 2027-06-01 14:41:00.961         251.788   111603\n",
       "..                     ...                     ...             ...      ...\n",
       "75 2027-06-13 12:11:33.065 2027-06-13 12:16:47.503         314.437   111603\n",
       "76 2027-06-13 12:16:50.059 2027-06-13 12:17:47.806          57.747   111603\n",
       "77 2027-06-13 12:17:51.974 2027-06-13 12:18:10.510          18.536   111603\n",
       "78 2027-06-13 13:49:36.192 2027-06-13 13:53:45.861         249.668   111603\n",
       "79 2027-06-13 15:23:14.072 2027-06-13 15:30:37.214         443.142   111603\n",
       "\n",
       "[80 rows x 4 columns]"
      ]
     },
     "execution_count": 50,
     "metadata": {},
     "output_type": "execute_result"
    }
   ],
   "source": [
    "area_df"
   ]
  },
  {
   "cell_type": "code",
   "execution_count": 51,
   "metadata": {},
   "outputs": [
    {
     "data": {
      "text/plain": [
       "67"
      ]
     },
     "execution_count": 51,
     "metadata": {},
     "output_type": "execute_result"
    }
   ],
   "source": [
    "search = '2027-06-02 09:59:03.148'\n",
    "facilities_df['Start Time (UTCG)'].searchsorted(search)"
   ]
  },
  {
   "cell_type": "code",
   "execution_count": 53,
   "metadata": {},
   "outputs": [],
   "source": [
    "res = facilities_df.iloc[[facilities_df['Start Time (UTCG)'].searchsorted(search)]]"
   ]
  },
  {
   "cell_type": "code",
   "execution_count": 61,
   "metadata": {},
   "outputs": [],
   "source": [
    "filtered_facilities_df = pd.DataFrame(columns=facilities_df.columns)"
   ]
  },
  {
   "cell_type": "code",
   "execution_count": 62,
   "metadata": {},
   "outputs": [],
   "source": [
    "filtered_facilities_df = pd.concat([filtered_facilities_df, res], ignore_index=True)"
   ]
  },
  {
   "cell_type": "code",
   "execution_count": 63,
   "metadata": {},
   "outputs": [
    {
     "data": {
      "text/html": [
       "<div>\n",
       "<style scoped>\n",
       "    .dataframe tbody tr th:only-of-type {\n",
       "        vertical-align: middle;\n",
       "    }\n",
       "\n",
       "    .dataframe tbody tr th {\n",
       "        vertical-align: top;\n",
       "    }\n",
       "\n",
       "    .dataframe thead th {\n",
       "        text-align: right;\n",
       "    }\n",
       "</style>\n",
       "<table border=\"1\" class=\"dataframe\">\n",
       "  <thead>\n",
       "    <tr style=\"text-align: right;\">\n",
       "      <th></th>\n",
       "      <th>Start Time (UTCG)</th>\n",
       "      <th>Stop Time (UTCG)</th>\n",
       "      <th>Duration (sec)</th>\n",
       "      <th>facility</th>\n",
       "      <th>sat_name</th>\n",
       "    </tr>\n",
       "  </thead>\n",
       "  <tbody>\n",
       "    <tr>\n",
       "      <th>0</th>\n",
       "      <td>2027-06-02 10:04:12.870</td>\n",
       "      <td>2027-06-02 10:14:39.823</td>\n",
       "      <td>626.954</td>\n",
       "      <td>Murmansk2</td>\n",
       "      <td>111603</td>\n",
       "    </tr>\n",
       "  </tbody>\n",
       "</table>\n",
       "</div>"
      ],
      "text/plain": [
       "        Start Time (UTCG)        Stop Time (UTCG)  Duration (sec)   facility   \n",
       "0 2027-06-02 10:04:12.870 2027-06-02 10:14:39.823         626.954  Murmansk2  \\\n",
       "\n",
       "  sat_name  \n",
       "0   111603  "
      ]
     },
     "execution_count": 63,
     "metadata": {},
     "output_type": "execute_result"
    }
   ],
   "source": [
    "filtered_facilities_df"
   ]
  },
  {
   "cell_type": "code",
   "execution_count": null,
   "metadata": {},
   "outputs": [],
   "source": []
  }
 ],
 "metadata": {
  "kernelspec": {
   "display_name": "Python 3",
   "language": "python",
   "name": "python3"
  },
  "language_info": {
   "codemirror_mode": {
    "name": "ipython",
    "version": 3
   },
   "file_extension": ".py",
   "mimetype": "text/x-python",
   "name": "python",
   "nbconvert_exporter": "python",
   "pygments_lexer": "ipython3",
   "version": "3.11.2"
  },
  "orig_nbformat": 4
 },
 "nbformat": 4,
 "nbformat_minor": 2
}
