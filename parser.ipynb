{
 "cells": [
  {
   "cell_type": "code",
   "execution_count": 30,
   "metadata": {},
   "outputs": [],
   "source": [
    "import os\n",
    "import pandas as pd"
   ]
  },
  {
   "cell_type": "code",
   "execution_count": 54,
   "metadata": {},
   "outputs": [],
   "source": [
    "raw_path = 'raw/facility_timing/'\n",
    "dataset_path = 'dataset/facility_timing/'"
   ]
  },
  {
   "cell_type": "code",
   "execution_count": 26,
   "metadata": {},
   "outputs": [],
   "source": [
    "with open(raw_path+'AreaTarget-Russia-To-Satellite-KinoSat_01_plane.txt', 'r') as f:\n",
    "    lines = f.readlines()"
   ]
  },
  {
   "cell_type": "code",
   "execution_count": 27,
   "metadata": {},
   "outputs": [],
   "source": [
    "lines = lines[5:]"
   ]
  },
  {
   "cell_type": "code",
   "execution_count": 28,
   "metadata": {},
   "outputs": [],
   "source": [
    "reading_data = False\n",
    "parsed_data = {}\n",
    "cur_sat = ''\n",
    "for line in lines:\n",
    "    if 'Russia-To-KinoSat_' in line:\n",
    "        reading_data = True\n",
    "        cur_sat = line.strip()\n",
    "        parsed_data[cur_sat] = []\n",
    "        continue\n",
    "    if reading_data:\n",
    "        if '--' in line or 'Access' in line:\n",
    "            continue\n",
    "        if '\\n' == line:\n",
    "            reading_data = False\n",
    "            cur_sat = ''\n",
    "            continue\n",
    "        line = line.strip()\n",
    "        data = line.split('  ')\n",
    "        data = [x.strip() for x in data if x]\n",
    "        parsed_data[cur_sat].append(data)"
   ]
  },
  {
   "cell_type": "code",
   "execution_count": 43,
   "metadata": {},
   "outputs": [],
   "source": [
    "df = pd.DataFrame(parsed_data['Russia-To-KinoSat_110102'], columns=['Acces', 'Start Time (UTCG)', 'Stop Time (UTCG)', 'Duration (sec)'])"
   ]
  },
  {
   "cell_type": "code",
   "execution_count": 49,
   "metadata": {},
   "outputs": [],
   "source": [
    "for sat in parsed_data:\n",
    "    df = pd.DataFrame(parsed_data[sat], columns=['Acces', 'Start Time (UTCG)', 'Stop Time (UTCG)', 'Duration (sec)'])\n",
    "    df.to_csv(dataset_path+sat+'.csv', index=False)"
   ]
  },
  {
   "cell_type": "code",
   "execution_count": null,
   "metadata": {},
   "outputs": [],
   "source": [
    "raw_path = 'raw/area_timing/'\n",
    "dataset_path = 'dataset/area_timing/'"
   ]
  },
  {
   "cell_type": "code",
   "execution_count": 55,
   "metadata": {},
   "outputs": [],
   "source": [
    "for filename in os.scandir(raw_path):\n",
    "    if filename.is_file():\n",
    "        if 'Satellite' in filename.name:\n",
    "            path = filename.path\n",
    "            with open(path, 'r') as f:\n",
    "                lines = f.readlines()\n",
    "            reading_data = False\n",
    "            parsed_data = {}\n",
    "            cur_sat = ''\n",
    "            orbit_name = 'orbit_' + filename.name.split('_')[1]\n",
    "            outdir = dataset_path + orbit_name + '/'\n",
    "            if not os.path.exists(outdir):\n",
    "                os.mkdir(outdir)\n",
    "            for line in lines:\n",
    "                if 'Russia-To-KinoSat_' in line:\n",
    "                    reading_data = True\n",
    "                    cur_sat = line.strip()\n",
    "                    parsed_data[cur_sat] = []\n",
    "                    continue\n",
    "                if reading_data:\n",
    "                    if '--' in line or 'Access' in line:\n",
    "                        continue\n",
    "                    if '\\n' == line:\n",
    "                        reading_data = False\n",
    "                        cur_sat = ''\n",
    "                        continue\n",
    "                    line = line.strip()\n",
    "                    data = line.split('  ')\n",
    "                    data = [x.strip() for x in data if x]\n",
    "                    parsed_data[cur_sat].append(data)\n",
    "            for sat in parsed_data:\n",
    "                df = pd.DataFrame(parsed_data[sat], columns=['Acces', 'Start Time (UTCG)', 'Stop Time (UTCG)', 'Duration (sec)'])\n",
    "                df.to_csv(outdir+sat+'.csv', index=False)"
   ]
  },
  {
   "cell_type": "code",
   "execution_count": 58,
   "metadata": {},
   "outputs": [],
   "source": [
    "raw_path = 'raw/facility_timing/'\n",
    "dataset_path = 'dataset/facility_timing/'"
   ]
  },
  {
   "cell_type": "code",
   "execution_count": 59,
   "metadata": {},
   "outputs": [],
   "source": [
    "for filename in os.scandir(raw_path):\n",
    "    if filename.is_file():\n",
    "        if 'Facility' in filename.name:\n",
    "            path = filename.path\n",
    "            with open(path, 'r') as f:\n",
    "                lines = f.readlines()\n",
    "            reading_data = False\n",
    "            parsed_data = {}\n",
    "            cur_sat = ''\n",
    "            facility_name = 'facility_' + filename.name.split('-To-KinoSat')[0]\n",
    "            outdir = dataset_path + facility_name + '/'\n",
    "            if not os.path.exists(outdir):\n",
    "                os.mkdir(outdir)\n",
    "            for line in lines:\n",
    "                if '-To-KinoSat_' in line:\n",
    "                    reading_data = True\n",
    "                    cur_sat = line.strip()\n",
    "                    parsed_data[cur_sat] = []\n",
    "                    continue\n",
    "                if reading_data:\n",
    "                    if '--' in line or 'Access' in line:\n",
    "                        continue\n",
    "                    if '\\n' == line:\n",
    "                        reading_data = False\n",
    "                        cur_sat = ''\n",
    "                        continue\n",
    "                    line = line.strip()\n",
    "                    data = line.split('  ')\n",
    "                    data = [x.strip() for x in data if x]\n",
    "                    parsed_data[cur_sat].append(data)\n",
    "            for sat in parsed_data:\n",
    "                df = pd.DataFrame(parsed_data[sat], columns=['Acces', 'Start Time (UTCG)', 'Stop Time (UTCG)', 'Duration (sec)'])\n",
    "                df.to_csv(outdir+sat+'.csv', index=False)"
   ]
  },
  {
   "cell_type": "code",
   "execution_count": null,
   "metadata": {},
   "outputs": [],
   "source": []
  }
 ],
 "metadata": {
  "kernelspec": {
   "display_name": "Python 3",
   "language": "python",
   "name": "python3"
  },
  "language_info": {
   "codemirror_mode": {
    "name": "ipython",
    "version": 3
   },
   "file_extension": ".py",
   "mimetype": "text/x-python",
   "name": "python",
   "nbconvert_exporter": "python",
   "pygments_lexer": "ipython3",
   "version": "3.11.2"
  },
  "orig_nbformat": 4
 },
 "nbformat": 4,
 "nbformat_minor": 2
}
